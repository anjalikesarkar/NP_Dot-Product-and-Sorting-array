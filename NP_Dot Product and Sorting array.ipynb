{
 "cells": [
  {
   "cell_type": "markdown",
   "id": "fc7ce090-4678-4728-a3e5-27868dc10c07",
   "metadata": {},
   "source": [
    "# Import libraries"
   ]
  },
  {
   "cell_type": "code",
   "execution_count": 9,
   "id": "8d0defd4-5686-4f86-ad5f-fc6a26ab7967",
   "metadata": {},
   "outputs": [],
   "source": [
    "import pandas as pd\n",
    "import numpy as np"
   ]
  },
  {
   "cell_type": "markdown",
   "id": "c467dce4-fd11-4191-afb3-1c7a336c88de",
   "metadata": {},
   "source": [
    "# Build dataset\n",
    "- Plan to have a data with 3 diff types of butters and calculate there daily sale in a shop.\n",
    "    - Sell count : With random function create an numpy array of size 5,3 num ranging from 1 to 20\n",
    "    - Prices : Create an numpy array for 3 of types of butters"
   ]
  },
  {
   "cell_type": "code",
   "execution_count": 10,
   "id": "ca05a780-ef5f-45d3-9744-b8e9b036a503",
   "metadata": {},
   "outputs": [
    {
     "data": {
      "text/plain": [
       "array([[ 1,  8, 17],\n",
       "       [ 1,  0, 14],\n",
       "       [10, 10, 12],\n",
       "       [18,  1,  3],\n",
       "       [11,  5, 19]], dtype=int32)"
      ]
     },
     "execution_count": 10,
     "metadata": {},
     "output_type": "execute_result"
    }
   ],
   "source": [
    "#selling price of butters random function\n",
    "np.random.seed(9)\n",
    "selling_count = np.random.randint(20, size =(5,3))\n",
    "selling_count"
   ]
  },
  {
   "cell_type": "markdown",
   "id": "e778b846-8390-4f68-8117-ca0fd6eea5cb",
   "metadata": {},
   "source": [
    "# Selling count dataframe\n",
    "- Rows with days\n",
    "- Columns with types of butters and there selling count"
   ]
  },
  {
   "cell_type": "code",
   "execution_count": 11,
   "id": "65c20e01-c92b-4702-baf6-9e3f8ed181ac",
   "metadata": {},
   "outputs": [
    {
     "data": {
      "text/html": [
       "<div>\n",
       "<style scoped>\n",
       "    .dataframe tbody tr th:only-of-type {\n",
       "        vertical-align: middle;\n",
       "    }\n",
       "\n",
       "    .dataframe tbody tr th {\n",
       "        vertical-align: top;\n",
       "    }\n",
       "\n",
       "    .dataframe thead th {\n",
       "        text-align: right;\n",
       "    }\n",
       "</style>\n",
       "<table border=\"1\" class=\"dataframe\">\n",
       "  <thead>\n",
       "    <tr style=\"text-align: right;\">\n",
       "      <th></th>\n",
       "      <th>ALMOND BUTTER</th>\n",
       "      <th>PEANUT BUTTER</th>\n",
       "      <th>CASHEW BUTTER</th>\n",
       "    </tr>\n",
       "  </thead>\n",
       "  <tbody>\n",
       "    <tr>\n",
       "      <th>MON</th>\n",
       "      <td>1</td>\n",
       "      <td>8</td>\n",
       "      <td>17</td>\n",
       "    </tr>\n",
       "    <tr>\n",
       "      <th>TUES</th>\n",
       "      <td>1</td>\n",
       "      <td>0</td>\n",
       "      <td>14</td>\n",
       "    </tr>\n",
       "    <tr>\n",
       "      <th>WED</th>\n",
       "      <td>10</td>\n",
       "      <td>10</td>\n",
       "      <td>12</td>\n",
       "    </tr>\n",
       "    <tr>\n",
       "      <th>THRUS</th>\n",
       "      <td>18</td>\n",
       "      <td>1</td>\n",
       "      <td>3</td>\n",
       "    </tr>\n",
       "    <tr>\n",
       "      <th>FRI</th>\n",
       "      <td>11</td>\n",
       "      <td>5</td>\n",
       "      <td>19</td>\n",
       "    </tr>\n",
       "  </tbody>\n",
       "</table>\n",
       "</div>"
      ],
      "text/plain": [
       "       ALMOND BUTTER  PEANUT BUTTER  CASHEW BUTTER\n",
       "MON                1              8             17\n",
       "TUES               1              0             14\n",
       "WED               10             10             12\n",
       "THRUS             18              1              3\n",
       "FRI               11              5             19"
      ]
     },
     "execution_count": 11,
     "metadata": {},
     "output_type": "execute_result"
    }
   ],
   "source": [
    "weekly_sales = pd.DataFrame(selling_count, \n",
    "                           index = [\"MON\",\"TUES\",\"WED\",\"THRUS\",\"FRI\"], #rows\n",
    "                           columns = [\"ALMOND BUTTER\", \"PEANUT BUTTER\", \"CASHEW BUTTER\"]\n",
    "                           )\n",
    "weekly_sales"
   ]
  },
  {
   "cell_type": "code",
   "execution_count": 14,
   "id": "7d470955-1652-4646-b9c7-a1e44bceab2a",
   "metadata": {},
   "outputs": [
    {
     "data": {
      "text/plain": [
       "array([16, 12, 20])"
      ]
     },
     "execution_count": 14,
     "metadata": {},
     "output_type": "execute_result"
    }
   ],
   "source": [
    "prices = np.array([16,12,20])\n",
    "prices"
   ]
  },
  {
   "cell_type": "markdown",
   "id": "9ccc5525-c0af-4fef-96f3-86d1f80bec66",
   "metadata": {},
   "source": [
    "# Prices dataframe\n",
    "- Row with price \n",
    "- Column with 3 types of butter"
   ]
  },
  {
   "cell_type": "code",
   "execution_count": 16,
   "id": "1cf96391-e06b-45f7-9235-4189b3e38985",
   "metadata": {},
   "outputs": [
    {
     "data": {
      "text/html": [
       "<div>\n",
       "<style scoped>\n",
       "    .dataframe tbody tr th:only-of-type {\n",
       "        vertical-align: middle;\n",
       "    }\n",
       "\n",
       "    .dataframe tbody tr th {\n",
       "        vertical-align: top;\n",
       "    }\n",
       "\n",
       "    .dataframe thead th {\n",
       "        text-align: right;\n",
       "    }\n",
       "</style>\n",
       "<table border=\"1\" class=\"dataframe\">\n",
       "  <thead>\n",
       "    <tr style=\"text-align: right;\">\n",
       "      <th></th>\n",
       "      <th>ALMOND BUTTER</th>\n",
       "      <th>PEANUT BUTTER</th>\n",
       "      <th>CASHEW BUTTER</th>\n",
       "    </tr>\n",
       "  </thead>\n",
       "  <tbody>\n",
       "    <tr>\n",
       "      <th>Price</th>\n",
       "      <td>16</td>\n",
       "      <td>12</td>\n",
       "      <td>20</td>\n",
       "    </tr>\n",
       "  </tbody>\n",
       "</table>\n",
       "</div>"
      ],
      "text/plain": [
       "       ALMOND BUTTER  PEANUT BUTTER  CASHEW BUTTER\n",
       "Price             16             12             20"
      ]
     },
     "execution_count": 16,
     "metadata": {},
     "output_type": "execute_result"
    }
   ],
   "source": [
    "#price datafram\n",
    "Butter_prices = pd.DataFrame(prices.reshape(1,3),\n",
    "                             index = [\"Price\"],\n",
    "                             columns = [\"ALMOND BUTTER\",\"PEANUT BUTTER\",\"CASHEW BUTTER\"]\n",
    "                            )\n",
    "Butter_prices"
   ]
  },
  {
   "cell_type": "markdown",
   "id": "850ab3a2-f728-4b2c-bc9d-08c0fd8f13af",
   "metadata": {},
   "source": [
    "# DOT PRODUCT\n",
    "- Calculate total sell for a week\n",
    "- T swaps the rows and columns:\n",
    "    - Prices matrix = (1,3)\n",
    "    - selling price=(5,3)\n",
    "    - if selling_count.T matrix = (3,5)\n",
    "    - Product = (1,3)*(3,5)"
   ]
  },
  {
   "cell_type": "code",
   "execution_count": 19,
   "id": "661ce7d7-dc1e-430f-ae43-1ab6aeada0dd",
   "metadata": {},
   "outputs": [
    {
     "data": {
      "text/html": [
       "<div>\n",
       "<style scoped>\n",
       "    .dataframe tbody tr th:only-of-type {\n",
       "        vertical-align: middle;\n",
       "    }\n",
       "\n",
       "    .dataframe tbody tr th {\n",
       "        vertical-align: top;\n",
       "    }\n",
       "\n",
       "    .dataframe thead th {\n",
       "        text-align: right;\n",
       "    }\n",
       "</style>\n",
       "<table border=\"1\" class=\"dataframe\">\n",
       "  <thead>\n",
       "    <tr style=\"text-align: right;\">\n",
       "      <th></th>\n",
       "      <th>MON</th>\n",
       "      <th>TUES</th>\n",
       "      <th>WED</th>\n",
       "      <th>THRUS</th>\n",
       "      <th>FRI</th>\n",
       "    </tr>\n",
       "  </thead>\n",
       "  <tbody>\n",
       "    <tr>\n",
       "      <th>Price</th>\n",
       "      <td>452</td>\n",
       "      <td>296</td>\n",
       "      <td>520</td>\n",
       "      <td>360</td>\n",
       "      <td>616</td>\n",
       "    </tr>\n",
       "  </tbody>\n",
       "</table>\n",
       "</div>"
      ],
      "text/plain": [
       "       MON  TUES  WED  THRUS  FRI\n",
       "Price  452   296  520    360  616"
      ]
     },
     "execution_count": 19,
     "metadata": {},
     "output_type": "execute_result"
    }
   ],
   "source": [
    "# Implement TOtal in DataFrame\n",
    "daily_sales = Butter_prices.dot(weekly_sales.T)\n",
    "daily_sales"
   ]
  },
  {
   "cell_type": "markdown",
   "id": "a0eb9da2-48b0-458e-8776-1edf0f5c036f",
   "metadata": {},
   "source": [
    "# Add in a dataframe with new col as TOTAL\n",
    "- Dot product vales are in row\n",
    "- .T swpas rows ro column"
   ]
  },
  {
   "cell_type": "code",
   "execution_count": 20,
   "id": "dfb964bf-778e-4747-baac-cf209f06f923",
   "metadata": {},
   "outputs": [
    {
     "data": {
      "text/html": [
       "<div>\n",
       "<style scoped>\n",
       "    .dataframe tbody tr th:only-of-type {\n",
       "        vertical-align: middle;\n",
       "    }\n",
       "\n",
       "    .dataframe tbody tr th {\n",
       "        vertical-align: top;\n",
       "    }\n",
       "\n",
       "    .dataframe thead th {\n",
       "        text-align: right;\n",
       "    }\n",
       "</style>\n",
       "<table border=\"1\" class=\"dataframe\">\n",
       "  <thead>\n",
       "    <tr style=\"text-align: right;\">\n",
       "      <th></th>\n",
       "      <th>ALMOND BUTTER</th>\n",
       "      <th>PEANUT BUTTER</th>\n",
       "      <th>CASHEW BUTTER</th>\n",
       "      <th>TOTAL</th>\n",
       "    </tr>\n",
       "  </thead>\n",
       "  <tbody>\n",
       "    <tr>\n",
       "      <th>MON</th>\n",
       "      <td>1</td>\n",
       "      <td>8</td>\n",
       "      <td>17</td>\n",
       "      <td>452</td>\n",
       "    </tr>\n",
       "    <tr>\n",
       "      <th>TUES</th>\n",
       "      <td>1</td>\n",
       "      <td>0</td>\n",
       "      <td>14</td>\n",
       "      <td>296</td>\n",
       "    </tr>\n",
       "    <tr>\n",
       "      <th>WED</th>\n",
       "      <td>10</td>\n",
       "      <td>10</td>\n",
       "      <td>12</td>\n",
       "      <td>520</td>\n",
       "    </tr>\n",
       "    <tr>\n",
       "      <th>THRUS</th>\n",
       "      <td>18</td>\n",
       "      <td>1</td>\n",
       "      <td>3</td>\n",
       "      <td>360</td>\n",
       "    </tr>\n",
       "    <tr>\n",
       "      <th>FRI</th>\n",
       "      <td>11</td>\n",
       "      <td>5</td>\n",
       "      <td>19</td>\n",
       "      <td>616</td>\n",
       "    </tr>\n",
       "  </tbody>\n",
       "</table>\n",
       "</div>"
      ],
      "text/plain": [
       "       ALMOND BUTTER  PEANUT BUTTER  CASHEW BUTTER  TOTAL\n",
       "MON                1              8             17    452\n",
       "TUES               1              0             14    296\n",
       "WED               10             10             12    520\n",
       "THRUS             18              1              3    360\n",
       "FRI               11              5             19    616"
      ]
     },
     "execution_count": 20,
     "metadata": {},
     "output_type": "execute_result"
    }
   ],
   "source": [
    "weekly_sales [\"TOTAL\"] = daily_sales.T\n",
    "weekly_sales"
   ]
  },
  {
   "cell_type": "markdown",
   "id": "49dc7bf8-863f-4711-a785-d0be2832873c",
   "metadata": {},
   "source": [
    "# SORTING ARRAY\n",
    "- Create an array with size 5*5 range 1 to 20\n",
    "  - np.sort - sort an array along rows ascending order\n",
    "  - np.argsort - returns an array with same number location(index) in original array\n",
    "  - argmin axis=0/1 - return an array with min number index along x or Y axis\n",
    "  - argmax axis=0/1 -  return an array with max number index along x or Y axis"
   ]
  },
  {
   "cell_type": "code",
   "execution_count": 24,
   "id": "c77ad23e-0140-48bb-b4f5-4728f58297f8",
   "metadata": {},
   "outputs": [
    {
     "data": {
      "text/plain": [
       "array([[ 7, 15, 11,  8,  7],\n",
       "       [19, 11, 11,  4,  8],\n",
       "       [ 3,  2, 12,  6,  2],\n",
       "       [ 1, 12, 12, 17, 10],\n",
       "       [16, 15, 15, 19, 12]], dtype=int32)"
      ]
     },
     "execution_count": 24,
     "metadata": {},
     "output_type": "execute_result"
    }
   ],
   "source": [
    "np.random.seed(42)\n",
    "sort_arr = np.random.randint(1,20, size=(5,5))\n",
    "sort_arr"
   ]
  },
  {
   "cell_type": "code",
   "execution_count": 25,
   "id": "2be13869-e1c2-4885-945d-7b08b0c1bc80",
   "metadata": {},
   "outputs": [
    {
     "data": {
      "text/plain": [
       "array([[ 7,  7,  8, 11, 15],\n",
       "       [ 4,  8, 11, 11, 19],\n",
       "       [ 2,  2,  3,  6, 12],\n",
       "       [ 1, 10, 12, 12, 17],\n",
       "       [12, 15, 15, 16, 19]], dtype=int32)"
      ]
     },
     "execution_count": 25,
     "metadata": {},
     "output_type": "execute_result"
    }
   ],
   "source": [
    "arr1  = np.sort(sort_arr)\n",
    "arr1"
   ]
  },
  {
   "cell_type": "code",
   "execution_count": 26,
   "id": "f711c39e-f143-4ba9-adb4-6bcf6a17d24b",
   "metadata": {},
   "outputs": [
    {
     "data": {
      "text/plain": [
       "array([[0, 4, 3, 2, 1],\n",
       "       [3, 4, 1, 2, 0],\n",
       "       [1, 4, 0, 3, 2],\n",
       "       [0, 4, 1, 2, 3],\n",
       "       [4, 1, 2, 0, 3]])"
      ]
     },
     "execution_count": 26,
     "metadata": {},
     "output_type": "execute_result"
    }
   ],
   "source": [
    "arr2 = np.argsort(sort_arr)\n",
    "arr2"
   ]
  },
  {
   "cell_type": "code",
   "execution_count": 28,
   "id": "8eaa9012-74fd-410e-9e55-6b9a21d935fa",
   "metadata": {},
   "outputs": [
    {
     "data": {
      "text/plain": [
       "array([0, 3, 1, 0, 4])"
      ]
     },
     "execution_count": 28,
     "metadata": {},
     "output_type": "execute_result"
    }
   ],
   "source": [
    "# Col wise min elements indices\n",
    "arr3 = np.argmin(sort_arr, axis=1)\n",
    "arr3"
   ]
  },
  {
   "cell_type": "code",
   "execution_count": 33,
   "id": "b2926611-62f8-4331-a4fc-3a052d28893b",
   "metadata": {},
   "outputs": [
    {
     "data": {
      "text/plain": [
       "array([1, 0, 2, 3, 3])"
      ]
     },
     "execution_count": 33,
     "metadata": {},
     "output_type": "execute_result"
    }
   ],
   "source": [
    "#Col wise max elements indices\n",
    "arr4 = np.argmax(sort_arr, axis=1)\n",
    "arr4"
   ]
  },
  {
   "cell_type": "code",
   "execution_count": 34,
   "id": "8ed418d2-8aac-4573-bd06-8566c2fd3d31",
   "metadata": {},
   "outputs": [
    {
     "data": {
      "text/plain": [
       "array([[ 7, 15, 11,  8,  7],\n",
       "       [19, 11, 11,  4,  8],\n",
       "       [ 3,  2, 12,  6,  2],\n",
       "       [ 1, 12, 12, 17, 10],\n",
       "       [16, 15, 15, 19, 12]], dtype=int32)"
      ]
     },
     "execution_count": 34,
     "metadata": {},
     "output_type": "execute_result"
    }
   ],
   "source": [
    "sort_arr"
   ]
  },
  {
   "cell_type": "code",
   "execution_count": 35,
   "id": "a766bfe8-1f76-48ad-80b9-76e58fd3e7aa",
   "metadata": {},
   "outputs": [
    {
     "data": {
      "text/plain": [
       "array([3, 2, 0, 1, 2])"
      ]
     },
     "execution_count": 35,
     "metadata": {},
     "output_type": "execute_result"
    }
   ],
   "source": [
    "#Row min elements indices\n",
    "arr5 = np.argmin(sort_arr, axis=0)\n",
    "arr5"
   ]
  },
  {
   "cell_type": "code",
   "execution_count": 36,
   "id": "f65e52c4-c5ce-402d-9855-3829c48a690c",
   "metadata": {},
   "outputs": [
    {
     "data": {
      "text/plain": [
       "array([1, 0, 4, 4, 4])"
      ]
     },
     "execution_count": 36,
     "metadata": {},
     "output_type": "execute_result"
    }
   ],
   "source": [
    "#Row wise max elements indices\n",
    "arr6 = np.argmax(sort_arr, axis=0)\n",
    "arr6"
   ]
  }
 ],
 "metadata": {
  "kernelspec": {
   "display_name": "Python 3 (ipykernel)",
   "language": "python",
   "name": "python3"
  },
  "language_info": {
   "codemirror_mode": {
    "name": "ipython",
    "version": 3
   },
   "file_extension": ".py",
   "mimetype": "text/x-python",
   "name": "python",
   "nbconvert_exporter": "python",
   "pygments_lexer": "ipython3",
   "version": "3.9.21"
  },
  "widgets": {
   "application/vnd.jupyter.widget-state+json": {
    "state": {},
    "version_major": 2,
    "version_minor": 0
   }
  }
 },
 "nbformat": 4,
 "nbformat_minor": 5
}
